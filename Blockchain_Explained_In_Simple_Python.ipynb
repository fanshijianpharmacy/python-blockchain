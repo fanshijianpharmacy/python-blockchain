{
 "cells": [
  {
   "cell_type": "markdown",
   "metadata": {},
   "source": [
    "# Blockchain Explained In Simple Python Code "
   ]
  },
  {
   "cell_type": "markdown",
   "metadata": {},
   "source": [
    "### by Vincenzo Furcillo"
   ]
  },
  {
   "cell_type": "markdown",
   "metadata": {},
   "source": [
    "So, what is a blockchain? In simple words, a blockchain is an append-only database, divided in blocks, in which each block contains a set of transactions. These blocks are usually created in regular intervals, and every block is linked to the previous block in the chain. "
   ]
  },
  {
   "cell_type": "markdown",
   "metadata": {},
   "source": [
    "In Python, a block can be written as class in this way: (Shift + Enter to execute)"
   ]
  },
  {
   "cell_type": "code",
   "execution_count": 24,
   "metadata": {},
   "outputs": [],
   "source": [
    "class Block:\n",
    "    height = None\n",
    "    transactions = None\n",
    "    parent_height = None\n",
    "    parent_hash = None"
   ]
  },
  {
   "cell_type": "raw",
   "metadata": {},
   "source": [
    " height = None"
   ]
  },
  {
   "cell_type": "markdown",
   "metadata": {},
   "source": [
    "The height of the first block of the blockchain, also called the genesis block, is 0. The genesis block constitutes the foundation of the blockchain, and each block is then stacked on top of the other resulting in a layered structure. Using this visualization, the \"height\" refers to the distance from the first block. "
   ]
  },
  {
   "cell_type": "raw",
   "metadata": {},
   "source": [
    "parent_height = None\n",
    "transactions = None"
   ]
  },
  {
   "cell_type": "markdown",
   "metadata": {},
   "source": [
    "Besides the transactions, the block also must contain a reference to the previous block, called parent, so that the blocks can be linked together to guarantee untamperability."
   ]
  },
  {
   "cell_type": "raw",
   "metadata": {},
   "source": [
    "parent_hash = None"
   ]
  },
  {
   "cell_type": "markdown",
   "metadata": {},
   "source": [
    "The primary identifier of a block is its cryptographic hash. This can be computed using an hashing algorithm on the block's information. The output of this hashing algorithm is a unique 32-byte hash string."
   ]
  },
  {
   "cell_type": "markdown",
   "metadata": {},
   "source": [
    "In order to apply this algorithm, we import the hashlib library, which contains the hash algorithms, and the json library to deserialise the hash to a string: (Shift + Enter to execute)"
   ]
  },
  {
   "cell_type": "code",
   "execution_count": 25,
   "metadata": {},
   "outputs": [],
   "source": [
    "import hashlib\n",
    "import json"
   ]
  },
  {
   "cell_type": "markdown",
   "metadata": {},
   "source": [
    "Now we have everything we need to start experimenting with transactions and blocks. Let's start by creating our genesis block, and set the first transaction:"
   ]
  },
  {
   "cell_type": "code",
   "execution_count": 26,
   "metadata": {},
   "outputs": [],
   "source": [
    "block_Genesis = Block()\n",
    "block_Genesis.height = 0\n",
    "block_Genesis.transactions = []"
   ]
  },
  {
   "cell_type": "markdown",
   "metadata": {},
   "source": [
    "This being the first block of our blockchain, it has no parent block. Now we can initiate a transaction:"
   ]
  },
  {
   "cell_type": "code",
   "execution_count": 27,
   "metadata": {},
   "outputs": [],
   "source": [
    "transaction_A = 'Alice sends 5 euros to Bob'"
   ]
  },
  {
   "cell_type": "markdown",
   "metadata": {},
   "source": [
    "The pool of pending transaction now looks like the following:"
   ]
  },
  {
   "cell_type": "code",
   "execution_count": 28,
   "metadata": {},
   "outputs": [
    {
     "name": "stdout",
     "output_type": "stream",
     "text": [
      "['Alice sends 5 euros to Bob']\n"
     ]
    }
   ],
   "source": [
    "transactions = [transaction_A]\n",
    "print(transactions)"
   ]
  },
  {
   "cell_type": "markdown",
   "metadata": {},
   "source": [
    "Blockchain validators (or \"miners\") are listening to this pool of transactions, and compete between each other to group them together into a valid block. Once this happens, the block is formed and propagated to everyone in the network:"
   ]
  },
  {
   "cell_type": "code",
   "execution_count": 29,
   "metadata": {},
   "outputs": [],
   "source": [
    "block_A = Block()\n",
    "block_A.height = 1\n",
    "block_A.transactions = [transaction_A]"
   ]
  },
  {
   "cell_type": "markdown",
   "metadata": {},
   "source": [
    "The block_A is our first \"real\" block, and it contains the transaction we previously initialised:"
   ]
  },
  {
   "cell_type": "code",
   "execution_count": 30,
   "metadata": {},
   "outputs": [
    {
     "name": "stdout",
     "output_type": "stream",
     "text": [
      "['Alice sends 5 euros to Bob']\n"
     ]
    }
   ],
   "source": [
    "print(block_A.transactions)"
   ]
  },
  {
   "cell_type": "markdown",
   "metadata": {},
   "source": [
    "The only thing we are missing now is the link to the previous block. As previously mentioned, we need to use an hashing algorithm on the previous block information. We can do it in this way:"
   ]
  },
  {
   "cell_type": "code",
   "execution_count": 31,
   "metadata": {},
   "outputs": [
    {
     "name": "stdout",
     "output_type": "stream",
     "text": [
      "7f42ab3758f50c368b32488380d6b31910c880ff6b2b8fa9cdb64ec48921a486\n"
     ]
    }
   ],
   "source": [
    "block_A.parent_hash = hashlib.sha256(json.dumps(block_Genesis.__dict__).encode('utf-8')).hexdigest()\n",
    "print(block_A.parent_hash)"
   ]
  },
  {
   "cell_type": "markdown",
   "metadata": {},
   "source": [
    "Once you execute the code above, you should see this hash string appear: \"7f42ab3758f50c368b32488380d6b31910c880ff6b2b8fa9cdb64ec48921a486\". This hash string represents the hash of the genesis block, and it is added to the next block, block_A, in the parent_hash field. If any information in the previous block changes even slightly, the hash string computed will turn out completely different, making it evident that the blockchain has been tampered with. "
   ]
  },
  {
   "cell_type": "markdown",
   "metadata": {},
   "source": [
    "Let's show this blockchain property with an example. First we add more transactions and more blocks to our blockchain:"
   ]
  },
  {
   "cell_type": "code",
   "execution_count": 32,
   "metadata": {},
   "outputs": [],
   "source": [
    "transaction_B = 'Bob sends 5 euros to Charlie'\n",
    "transaction_C = 'Alice sends 10 euros to Dennis'"
   ]
  },
  {
   "cell_type": "code",
   "execution_count": 33,
   "metadata": {},
   "outputs": [],
   "source": [
    "block_B = Block()\n",
    "block_B.height = 2\n",
    "block_B.transactions = [transaction_B,transaction_C]\n",
    "block_B.parent_id = block_A.height\n",
    "block_B.parent_hash = hashlib.sha256(json.dumps(block_A.__dict__).encode('utf-8')).hexdigest()"
   ]
  },
  {
   "cell_type": "code",
   "execution_count": 34,
   "metadata": {},
   "outputs": [],
   "source": [
    "transaction_D = 'Charlie sends 5 euros to Alice'"
   ]
  },
  {
   "cell_type": "code",
   "execution_count": 35,
   "metadata": {},
   "outputs": [],
   "source": [
    "block_C = Block()\n",
    "block_C.height = 3\n",
    "block_C.transactions = [transaction_D]\n",
    "block_C.parent_id = block_B.height\n",
    "block_C.parent_hash = hashlib.sha256(json.dumps(block_B.__dict__).encode('utf-8')).hexdigest()"
   ]
  },
  {
   "cell_type": "markdown",
   "metadata": {},
   "source": [
    "Executing the code above we now have 3 blocks (4 with the genesis block) all linked to each other through their parent_hash property. Let's print the parent hash in block C:"
   ]
  },
  {
   "cell_type": "code",
   "execution_count": 36,
   "metadata": {},
   "outputs": [
    {
     "name": "stdout",
     "output_type": "stream",
     "text": [
      "Parent hash in block C:\n",
      "962b77a80e18848086d95247aa197b3f7cfe5155eee4ea853f3a2c6ca6f7f1f8\n"
     ]
    }
   ],
   "source": [
    "print(\"Parent hash in block C:\")\n",
    "print(block_C.parent_hash)"
   ]
  },
  {
   "cell_type": "markdown",
   "metadata": {},
   "source": [
    "Now let's try and modify the data in one the previous blocks:"
   ]
  },
  {
   "cell_type": "code",
   "execution_count": 37,
   "metadata": {},
   "outputs": [
    {
     "name": "stdout",
     "output_type": "stream",
     "text": [
      "original data in block A: \n",
      "['Alice sends 5 euros to Bob']\n",
      "Change data to: \n",
      "Alice sends 5 euros to Vincenzo\n"
     ]
    }
   ],
   "source": [
    "print(\"original data in block A: \")\n",
    "print(block_A.transactions)\n",
    "print(\"Change data to: \")\n",
    "block_A.transactions = 'Alice sends 5 euros to Vincenzo'\n",
    "print(block_A.transactions)"
   ]
  },
  {
   "cell_type": "markdown",
   "metadata": {},
   "source": [
    "And recalculate the parent hash for the blocks:"
   ]
  },
  {
   "cell_type": "code",
   "execution_count": 38,
   "metadata": {},
   "outputs": [
    {
     "name": "stdout",
     "output_type": "stream",
     "text": [
      "New parent hash in block C:\n",
      "4cf13f5f3c5ac80060280c53510e58fdf50f511a2336d6599db20dc64ef479c9\n"
     ]
    }
   ],
   "source": [
    "block_B.parent_hash = hashlib.sha256(json.dumps(block_A.__dict__).encode('utf-8')).hexdigest()\n",
    "block_C.parent_hash = hashlib.sha256(json.dumps(block_B.__dict__).encode('utf-8')).hexdigest()\n",
    "\n",
    "print(\"New parent hash in block C:\")\n",
    "print(block_C.parent_hash)"
   ]
  },
  {
   "cell_type": "markdown",
   "metadata": {},
   "source": [
    "The new hash is: \"4cf13f5f3c5ac80060280c53510e58fdf50f511a2336d6599db20dc64ef479c9\"\n",
    "which is totally different from the orginal hash from above:\n",
    "\"962b77a80e18848086d95247aa197b3f7cfe5155eee4ea853f3a2c6ca6f7f1f8\", clearly showing that the blockchain has been tampered with. But how can the tampering be prevented in the first place?"
   ]
  },
  {
   "cell_type": "markdown",
   "metadata": {},
   "source": [
    "## Securing the blockchain"
   ]
  },
  {
   "cell_type": "markdown",
   "metadata": {},
   "source": [
    "The blockchain is secured by validators (or \"miners\"), which get rewarded tokens for appending valid blocks to the blockchain. Nodes in the network are also responsible for checking every transaction, and propagating only the legitimate ones to other nodes. If a miner tries to include an invalid transaction in a block, this attempt will be detected and their entire block will be ignored by everyone. In this case, the miners will not get their reward. "
   ]
  },
  {
   "cell_type": "markdown",
   "metadata": {},
   "source": [
    "Moreover, in a proof of work (PoW) blockchain the miners are required to do some puzzle work before they can add blocks to the blockchain. Aggregating the transactions and prepare a new block is the easy part of a miner's job. However, once the block is ready, a miner needs to compute the hash of the block as we have done in the previous section. In real scenario however, the output of the hashing function is required to fall within certain boundaries, which determine the difficulty of the mining process. In particular, the hash of the block data, plus a random number, called nonce, should have a certain number of leading zeros in order to be considered valid. Therefore, the goal for miners is to find the nonce that, hashed together with the block data, returns an output that satisfies the difficulty condition."
   ]
  },
  {
   "cell_type": "markdown",
   "metadata": {},
   "source": [
    "To show this process visually, let's initialise a block's data:"
   ]
  },
  {
   "cell_type": "code",
   "execution_count": 39,
   "metadata": {},
   "outputs": [],
   "source": [
    "import hashlib\n",
    "\n",
    "blockData_string = '{\"transaction\": \"Alice sends 5 to Bob\", \"parent_id\": 3, \"id\": 4}'\n",
    "blockData_bytes = bytes(blockData_string, 'utf-8')\n"
   ]
  },
  {
   "cell_type": "markdown",
   "metadata": {},
   "source": [
    "Now that we have the block data, we need to find the right nonce. To do this, we iterate nonce after nonce, each time checking if the hashed output satisfies the difficulty condition, which we will set to 3 leading zero (\"000\"). For example we can take the block's data,"
   ]
  },
  {
   "cell_type": "code",
   "execution_count": 40,
   "metadata": {},
   "outputs": [
    {
     "name": "stdout",
     "output_type": "stream",
     "text": [
      "b'{\"transaction\": \"Alice sends 5 to Bob\", \"parent_id\": 3, \"id\": 4}'\n"
     ]
    }
   ],
   "source": [
    "print(blockData_bytes)"
   ]
  },
  {
   "cell_type": "markdown",
   "metadata": {},
   "source": [
    " Add a random number (nonce), hash the pair of values and observe the hash:"
   ]
  },
  {
   "cell_type": "code",
   "execution_count": 41,
   "metadata": {},
   "outputs": [
    {
     "name": "stdout",
     "output_type": "stream",
     "text": [
      "b'15'\n",
      "a11a3203f79fd3a52aa01a74bb2b99780da1254aad5f2f859f16947d83c53028\n"
     ]
    }
   ],
   "source": [
    "nonce = 15 # change this number to try different values\n",
    "nonce = str(nonce).encode('utf-8') #encoding\n",
    "print(nonce)\n",
    "result = hashlib.sha256(blockData_bytes + nonce).hexdigest()\n",
    "print(result)"
   ]
  },
  {
   "cell_type": "markdown",
   "metadata": {},
   "source": [
    "As the hash does not have 3 leading zeros, it does not satissfy the difficulty condition and cannot be accepted. You can try yourself giving different values to the nonce above, and see how the hash varies totally randomly, even despite only a slight change in the input."
   ]
  },
  {
   "cell_type": "markdown",
   "metadata": {},
   "source": [
    "And finally, we can simply iterate with a for loop over different nonce values until we find the valid hash with the predetermined number of leading zeros:"
   ]
  },
  {
   "cell_type": "code",
   "execution_count": 42,
   "metadata": {},
   "outputs": [
    {
     "name": "stdout",
     "output_type": "stream",
     "text": [
      "722c582f9708efba6c130ad4cd99ee43b6ca7fd707e53db44edbe58cc30f5e4a\n",
      "8320acfddac5ebf186ba87e83c105aa8c4d4af90ecc5c57537fa5fa1fecb9155\n",
      "e337b73968d7e291122ac101eecd9cffca42b5b6db85610257ef24bb8d458225\n",
      "8a65efd3458b8e255c4f6d779573604d619a4e82bb567f57ba828ccd157e4d91\n",
      "101d3c9d14ebd91dd88e33fb1b9e7ea5cf38368e6ba1910f38f8202a5ff81ea2\n",
      "2d716bd6b534b6435ca2505485b4a340bbe3fb2f125056519c57277ffe06765c\n",
      "a347d732cee749b67c7042b89f85f4c7f5ac979f2aede65d7b55761dd97f27b3\n",
      "5c14df00130b9dbdb39823a224fa6166d4368937c233e400f4ca8a89c1de1f99\n",
      "95baae26a7748c28f369441d810931e389e0f17637fcf1b81e639ba6821ea95a\n",
      "3d2b40e8090ca2286836b21dad1e3545e9ad73249c3e0ec7d161398b1ea23997\n",
      "67874966aa433d5c8fdd1cf93dcd656444697b4573b55b30faca8e1ca74ac671\n",
      "11d83fa3ec31382e877b8777df7a5288bcc59c350197c8c7c76aee482bfa9835\n",
      "58141850a383d49d6fb3f1512fce44709f39cdc51841f506eff91a730dfc6960\n",
      "90a5aadfc1b651031a6bd5d1e4190072d911241c9b03a237a66c8b98340d5922\n",
      "607af09976c2367e12fb1c4712a4b66cfd12b69c1544037729bafb9890e6e8ab\n",
      "a11a3203f79fd3a52aa01a74bb2b99780da1254aad5f2f859f16947d83c53028\n",
      "98aa2e2c0ff264ec91b949bcd11d85d0eafc27e22a2eb8ef72efab93c7a20bef\n",
      "b644196e28a7f70413cc24aff225ae8b8d4f100399a767c73c9f0eafc7a90c63\n",
      "e9468b1cc957f66fcc4b97ba5f4dfdd5f16cf9d9416d93e758e0abbb071a690a\n",
      "a2e8ebcd2343690afd508250e5b7bb18b38e3b5973fc34df80b1e46490c2fdbe\n",
      "4ae5f7a4985e4ae14fea84a3689482b82c93763f08bb46fdaefbffcb3bb61630\n",
      "a1941e228a762d203e8617a8474ff2b4901dd22d39aad8a7051101b139b4f197\n",
      "2c610ed447769dd954c1bef71d2138b7f22855e80989ee907b2c4119329613df\n",
      "942e76a39195161a475df0e30b74dc755a681b7c885598cf616f7cdae4ae1030\n",
      "b4d1a8d503258d4df41cdd313477232f19f2c3b0dded7c3b86fb9d9c97f883c5\n",
      "6bca54dc7e56f390daf872972cb9f32a920f3b203a286b6a6429933f2a296d5d\n",
      "49f0046aa3f123fd6547d5988bb3e06de026d37fa2779e86f3a483140c365287\n",
      "de1305a82064299849e59715725df100d2a0f3ab1f2ea90d7e06a32d74746a80\n",
      "5eafc13d3f11ec0961804b53c3a6969236d41b365289ff6f229d1a3d69f070a0\n",
      "f1e1dde425f0f13d0055e41a2b9bb6872ec673c7b2d2d7fd5984ed9d7e041789\n",
      "c5379c70c7480a321ef56e0118854b2486d1367ff88dbc0b7c01f203ffa7e1fa\n",
      "e8bc60675984921803683c6d7b2d06fbcc3dd2527fce6ddd10eda8dc0a2c47a3\n",
      "9a9003777b09d10211f457bf4d8e31de99909c28ef62a10bdfdffb2b3c872b5a\n",
      "ecc270b8e1758fed3a2e5c846a6f9c3ebef5c4c7d477fd75fd3cd97d768ff9a0\n",
      "b008d2598c209fcc7f7b6c3e2c71438ae00c8858380c87ff0cbe1d4568fac5f6\n",
      "de9dac23cd05fc9023b3172a699096d0e72f04934c44ff2a80291dbefb7b410a\n",
      "e57850ef386d9ceb14edcf83fd2015b7473936ca4c5061aa5389f5d9242e1a07\n",
      "e8dde9151f858a4c2f507c1e475e972b8d572a633af350da245929c25301c886\n",
      "13cf3e6273ea35a601f16ce2b950a54dcbb1eab33810b257db859d20ab3790f1\n",
      "cc8b7dd27f155cab8a55709da74897b2691b2e4fa07e00a676d970e0e3c1b68a\n",
      "81431746f7eb3de7a5711236dfd28252a5a999eda24e16dd65890d449c12f229\n",
      "4f72df61be8abb3a386c3fd823230bbe9ee2c7d9f7e056ada20e929d637972d7\n",
      "4b70a368ef135d46d1d814c3469a0108b8a969a7c232f05ce57a7c578a7095e0\n",
      "a5ef2a66b6cfc68ff0a70c660af72924af203cb32e66f0f7a9465870d2d07e5c\n",
      "1955ffdd04bbbbb68fea78ee6d00a2cf718ea5be82c628cc0bbf84cbc5c10c49\n",
      "a7e0a9091011fb4995627201e6b0f5de8577966091109d6253d92c4b2174df72\n",
      "59385f6c7669cd9e551c8112818b83b183162b6be35f243c59a4b49ff61bbdca\n",
      "2e3835869c1ba8b92146e045c5bc546386e51fda8d151bd6684880124940fe37\n",
      "12991ce767cf02d953868601236d2cc9e3a76cb328a175737fc6466f808f96e6\n",
      "6ee538acf92d3dcee437321c01fbb54dac8a5bc24944bb7e440988003c7a8319\n",
      "b0f7db39c24a3b1bf4500c50336245e6019197a2bfdaa9e1616afff6b303640c\n",
      "77627c4f00064818d27426a1f891e9fc2e6fa799ede5463be9df75d41eddb277\n",
      "38495fb97b8817fa26123f1b34dfcfb7d105823f12c07bf219509169d0af33bc\n",
      "c06ab3150141413b0b671aed5e984ba0b349a4706609812843d1437554bc8cca\n",
      "eaf66eb4758d09d382f132b3d80e14439e02ec90ea93e65994e91ad84b75edf0\n",
      "d1fa0a9edecb88d1a9e9ab8d42c09c8c30bd99d252f21b19cc14584dc3356702\n",
      "0c17c6cb45cf0a402fc822c9ecf067ce4251d2deefbdc8fedc52018f0f8747c1\n",
      "5b00dda4f1f66f9497530f9d4ea2cdeb6dceeadaa2ad289c33b016cc5ec20bc0\n",
      "37e222edc2949d138638b48c4ba53b7b887622def73ea29e50feff948ab5ab98\n",
      "3f53fe17a7a1fceba920892c53baeec7475d9cc1fcf560bd937cd9bedfe4d6ff\n",
      "1b05b77545fd18accbbeaea531a1d0c2d41dc04d923ec7a67b98eceba148e920\n",
      "90c840ba39b4f2fe578b8d36c9498a635016d52399c7c5d43fcbc649d01c0863\n",
      "8d51636612e4d9af65cf134501e5a236e785ead5a2cafd19ca8e7334e6825200\n",
      "b1b68c6e35e89eba5c193ce2e23e089da0a22eb57ea42504f99212722a34f992\n",
      "7ee060e8c1240268b38f5ac09c17627b6a68b6d6d39591ea3a24927160b15ee8\n",
      "76e889a95bea5e1cb81886aaa2f16f06be321bcb3b9d57ccad93f3f8e03a5a9f\n",
      "e32942d8a4ad0c2791203c738ba21dbdcb38bb42568bf69ab06a84cc3b8c42fe\n",
      "ca3938020fed110635ef8bb63c01cf403d76eb43d6e025b01d51cfa748f7071f\n",
      "1497e2767645fdda416f7c590a22b92c19356c73dc8334b836128a41f908951e\n",
      "47de0ba56209ebc475cfab9571426523ec111522d2010e1cf75d351e65ddab36\n",
      "92e51944d2992211ff3543acd9541600a5320ce25a1645b7c90858259884520c\n",
      "223d4e4152adadfe62d06d19b292810c36ea88045d1eb43b8fb12c680477f4e1\n",
      "d897d22dfd619dc15c65a43c07013e0d219f27a449443e3ee2db102149f765bd\n",
      "e776a6ac89223f8170453f9d7dc256f1603634e05b317eb88f42d183dfdab00e\n",
      "24793f55a81657b7e460e86b9da0b416974cb0268efbe944ccc359b9eb4dcb0d\n",
      "ec14dec5178749b68b18df429470d3e2157d59eb30089d8a1ab8bd71eb719324\n",
      "8aeff402bf2a16da032a74b397ddf9ec09dd7e7a010f804f5652c2eb402dd1a7\n",
      "5caba735797c769cedb144061029d580587ad86aa8d9b15ddebfa603b93cb55c\n",
      "adea8c50c843498ea0d172559ff70ce659f74f89eca0518719401f9bf8723e84\n",
      "a734bfa1d3d49e148aa6bd3df4235152d2ed39e7e1f9c34d85a7d0f761013dfa\n",
      "5be586fb57c0273873df02cf805c0e9b1380da936bf329615ee49db68253abf4\n",
      "d4a120168a07edc9506d45c602c0afcaa41b76f5d63290e834963cd54c27ae66\n",
      "f09cbdf1aa1bfab9cdfdfd20f2e222bd23e8eaf82d5bf383a5d948be2734427d\n",
      "e1f761ddfd6e9b96f7c2dbc2e3675eeee86e636c57a227f85c455948d947d53c\n",
      "5ea84d8695f171cc73790a033aef90666f7c399d95ce93767498e63006e099b0\n",
      "e498baaa43c97b07d879b1e9a2d3854bb070df7299c01d0ea9e09d248bb71f81\n",
      "3dbd992ed1dd5e55d2d0828f4978609089a4c2b1f198d9747501e5b6c3532a67\n",
      "4d382a0e503d8931a6b9bb78bb76faef05c55e55109e29928f01504ecd10ec9f\n",
      "0ddf9d7572a28de8231da19e83ad4f206812b9eb60ccf39e0a11b69d4d4a90f6\n",
      "1162416f1d8989502de026b1ba17d84215cdd067d2df0a653d74f52b8cbffe40\n",
      "f177b33aa4ae864fadddfbcd4e146be945c57ad2fba6a212cb50d94b4c117dee\n",
      "86c95c1df9144c41183417fe88b8308552afd88bd4e39a552dd7e9cdcaff3cfa\n",
      "4ce2aa884be6c1a28ace4b23f00b1f456b26611184f5cc3fecc469c4e4090e5f\n",
      "173346fe1f85616017360347ae128c9d9c60d3503b1b38546e8b24b4f92e7e4f\n",
      "48b0e2e2ab70603a3bed0257fa46aaba96ceafec08e4d13821e6956b728fb8f3\n",
      "c18ed12fe0ce534c4a91d39e361e1847a5583103680326cd50087cd9853caf5b\n",
      "faccbfcca1e35810a13600272537ac29a7db3832a3b74c4c6d744bc9228e35ef\n",
      "77181c810bc947a688508bb4134a27672b88c6326e9a89ecd1fbbb6c21ce3eef\n",
      "12aa9ddac4b21d0949f6e2231656eff3113d4eecba2e8208c608e75e8de9088d\n",
      "c4461efaeb7a06a7ea3035c12af30b06063ec3ee1424001a3f7e8fc8bf902391\n",
      "e87789a7f583b72f319c492bd6765c6f7946da424767416799d955055389d1aa\n",
      "cb25e6c0e6e493c30f9c0987bf946609cb142c9931d7701281943759cdf5ebeb\n",
      "9c6f1960d232d51e3e7c68a3d0ada5be4560a7b14429ce2fd6fb9a0735a91373\n",
      "2d01f35265589006912ffe751da19f3435406f1f1b52190f9b163f0f182ebdc3\n",
      "1e931d787e21330e0a7c59114e392960bacb355d6b6870b542762b9786909e33\n",
      "f3f7db0d07f506aa573bebb4e467c485ab21397518b08dfabe61c24e3039fcea\n",
      "5ce8b5eebd5d529d107d48bab6181d215f303635c16d0c5a201f7b8950635564\n",
      "1453fdc08563efb095616beb152e103d2b7e05f7787e1b138edbd1458b0e4a60\n",
      "5d1ec31a69e3112fcc907dbdace22f21d4c34035d26fdd2bbf26ab0ceb537c85\n",
      "7d59ce2328c13e71c48943b3fd5fbbec802eba5bfc4999e68c8078977931f2ac\n",
      "9930258d0d4dbf260138abbe146da62304bfa164055ec44bd0df21bcfbf29413\n",
      "aaa6d6cd525798794612ae7694ddfc28a932f4534baeff38b44eafec65a46a65\n",
      "c3c243741ccf3421ecb538be94566fca6019bba7200f6de4dd23fa5334cfb6a6\n",
      "ea8ab9e44352d6302d42b3b5a14bd83870883879521c127d1d3f6c0301014083\n",
      "e58bb1c4d83eee275df501b6d5eb2f4ec0f9e70bbc1a34eeefb6bdbe5ccdc167\n",
      "2f13ba6d3203758e20f2d53531ec1611180dc321d5a12e9dcdfa77c9628deccb\n",
      "97822870d4681d6820e1d16f3b79cbd73cbd277ee681ae7e7b28b759929eb9b7\n",
      "e64b58ac1168bf87b7df25e227b8c33f817ccc174ff13e2f6e07ef9570f880a1\n",
      "1e4670e671c0e6efe5cb1271ebc1cc52322ddb420a59151d50436c0398bf33e5\n",
      "0512bb09fd5fe55b2bbc8f7b9aee560f44fc371f48816e60a6715b4424b4cc01\n",
      "81a640c40b4d780526a299960bb4e6bc8d8fe4c2eeff86d0fc82c9993759b88b\n",
      "e457f884c9d6b67df4ae8a39d34791ddb6dd8118247608ab9833f6e179510bf7\n",
      "419f926f130abe8a58f3455cde493f2fa15c9a9eca2dccbe7a0749ebb53cc605\n",
      "4d9fde921bbb27a564d6d1443807c28045024248e60bed17286cd13067fb76be\n",
      "78a1504c2e90ee5bb66bfd101c219648ab99014523be29db6c066e03b8babc73\n",
      "aefd32f198ca7654c7f566358a0a3a8fb69a360acc72d6dcae67697b547be53a\n",
      "cf9a5da945d68a2ab186089e23fe2ede82fb9929ef9b926051a101e3e43eb0f3\n",
      "1a2c0354f6d1f236bc4e34b37fd7e4249d57c290f0aef35c04e298765192b82e\n",
      "312384feba0dd72dbf4e8b0cc669fb79d57e937029e735a98221cc057f9951db\n",
      "c90c637390729ad2ac9652e49b2d3470282e4bad35144359e980dfbc5939d041\n",
      "bb7b12aa7e8808d849ab32cca21f74b0502b7e9e7a4b9bb875267ea426519668\n",
      "297c02f4bc86c4cf6f5a6bc06754ea0a2cccae0697e1cf9fd1f6db3a377d3911\n",
      "ac79c156a3b4ee2a690dbf9098019ccbfff5e346546cc52a9904c9d26979e0e6\n",
      "b5d1e8f8c81cf07039e6d950a086fabfd1ea5a99590072d89e1b7ff60d93ac3a\n",
      "b9eb82a6c4c1f2edc6dd61cd9c6f0bf23382af4dfbafa2768d7fb44253f2f903\n",
      "5d0bceb5ae540c6eafaecf7dcd850cdb8a67ce1b44be991dcfd4938ac30be24a\n",
      "fd3eb0b73f71947043a6dfd5770865d38ff0bf2d0f1cf2a7c9d7ad9b72632818\n",
      "50dcd00d3fd63dcda724616ca125b711f7337be8ef6e1dab8528825ac006352e\n",
      "3b3357661adec87e8cbdbbea965398f15b03c53f241693c3f5d038fb5b3e34ac\n",
      "931c4e204935c1813a135482ab88ff2d9ca7564050cd9aea148c3410cd381ed1\n",
      "4f13daa8dfe31e71205af5591eb4967c7bc3e068d8080ae29e6599d2e51cd315\n",
      "7f5bdc2df439dea10957cc2f8697c66ed48dd1813ca322dedb1b72ee46f76ddb\n",
      "55e47f6a25ee5a5f090f681a91444067106ed2808764c3ca378695a82cc6dc61\n",
      "9abad43e65e553c632284b4f75a79f906b1c9e4e11e21e171117ea5aaa0af4cb\n",
      "7b9373b7cad0a474ada1fb45941db565465d1cd2a99d56555cd5e42884c737ea\n",
      "56d537c87bd8fe46536d5f6e5899fd8a52a06c8f1f881dc309c4133849f6142d\n",
      "914cf11d6396277ce1f59c2a41cf3f1637b169cd468de2faa9d6185969e3606d\n",
      "b42fb6fd688b8a43097f23644c79a5eb257f020cbb9c14ae32dd7170db6c19f5\n",
      "fc3366f95da6ef449a2a9acb08cfbbacb0c23dd1e18ceb6a18081213a306565e\n",
      "ca704c18fb734606033864670ead0790dfb4200e1d88ef5e29eb5ad100865ea5\n",
      "5fc75d4528796025fe84cf80076643ce594878b09c291bc7ec711c4bd3ef72cd\n",
      "731dd7f23306c8799d92a4d2002dacd2dca31f978b16acc9c527b43d15f48305\n",
      "dab6402a49dccb2a4c4b22bf726faf87622f0deb41aabd732381733ca88f1989\n",
      "2c9a93f01cc294cee863db06e7beadafccce1a0ff2c94626578ab72e03eec16a\n",
      "d3496b59a1398fe82fee0bbb2e4633dfde15c21ded465ece14df424967bc6755\n",
      "7182f42484c089d9e94c9491b4cce4f43b94a12c5f8583c36210faa8c067762b\n",
      "5c52cdcb3719d4d28de6db29c954cccc8d1a3ce7ad8b9d877c56bb83b68751d0\n",
      "3554082b6598f09aa966fe7eb372f39d815be4c6131040936a2ef77b86947743\n",
      "3599abc6b77371a8e594d5e5657076a69f0243712bde53d3af2a3c2bab45c1a3\n",
      "ae24e9e32595005dcfea5d122fb8260835b0dcdaff3aa548d930c2682db1dbf8\n",
      "8c842a6fd63a832a901ffd468c63a3d86f68d17444cf63cca82315407580852f\n",
      "ce993cd7d13e9fadaa043144fc805c40d8e5dc91e9941f3dfb17961460441428\n",
      "100f22ebb58050cfe1d7e4957e4f3db3467fafd0295ae871b9a64d9afa7ea3b3\n",
      "886811d3288018af0c725dc9a81b32b0cfcbc12fc015c1956b67a3caef958e5c\n",
      "6377d15048624521b3a44a29ed675205e6c8088819ba8832e5fabc6fc2a8c992\n",
      "6dd635e6485ce719335eaab5118790f54c08718208c7866119e9f4a12dff12b4\n",
      "b5313bc70d760c23a05e04b55a59b296f441c87572a4dfaa6e99c789cfcc1510\n",
      "d2d5f1b1d44cf62d215de94cb2298d0a8a5012442650e78c85e04d7b8200ae1c\n",
      "9c5b396a41bf4a910541123af73d4f1a0e1c86fbd241d9a4f57cc7015a0e9084\n",
      "fd3c4eaf4ac2fd62bca2fce06846f89ba4193f447c488503af721f63d6d2ee38\n",
      "906127c94d822240ddcf3665827f11b0b9cb697f122dade503d94c6eee39d45d\n",
      "25c9f12f07d1a580ba2a4dae678f24d52366d52999d129064a737d23181fbdce\n",
      "87d597e50a57173b7e272a23324ab77d9386ec97205810fe6001a388f777865a\n",
      "fff720a0cef6b38732ed91203320d9e510412982eb4c032985103b9737ff7b0a\n",
      "3b2476dbad98d71f0d549dd2f56023ec3fc4ee257f1f5a9910ea69e1650638a2\n",
      "bb4f9ed012fe5af9de5ebc32e94988f0fac9765ef0ca8243bcb1e489e5175f63\n",
      "b472abdb1757790c8706bd2b7b3cfb0a2e368c2392848b437fc7e9471a9f7626\n",
      "27fab84237c99b22ac54248c7d3f203ef0f9689ee532945de626947c65c3fa00\n",
      "48eb6aac9bbd1f8772fab012fff57931b200af23e335ac6e952d8d6b8f357e5d\n",
      "31d826cb252cca42bc9c9816e18168053dd7ffb9de615f48a0fd825df4e54ece\n",
      "3c1c66b6e36ff6e4249782a685da94425538762f8255cd466d61cf43325c20a4\n",
      "b62cad8bc07cc249a9af0221f2af10de716164783d9327a4d5d149b2cb024681\n",
      "1ee873ef9f0c21e65d323d5776375b810c70c3402190a592bd18759b1da969de\n",
      "bc55f9006cf46a48874618cfd3d911fba630c0975616e32e314527c0031ef483\n",
      "40d0f73fe5351f34167d0e7dce802a6d9a11cf90505a4aca38f83e1bedd4c4c9\n",
      "8ecd0a4addd213c4309c44d09341a938f339b6a02710222e167b304593db0a39\n",
      "8bb2b9e3e2a60da66d765c8ce3ca294540b66e54fced430c62331e3a60550816\n",
      "5f7e891c335780e7422414d693ed93bac84b4157e77aec313f662c0f4ac718ba\n",
      "82a98d085456165ceac64a67681206bd4f823dfc14e986acd50134be4c13e27b\n",
      "7ca674b3361d66b3d6cdf519159cbee29f5d5fdb80722695644455c68a3f499e\n",
      "c14471fdca141a30d6dbb9b07f5d5fdf69b54894364ec86d5c93851e2b5aa153\n",
      "1ffaee1d8e0f36624e2a77d3b8ab88da85ddd414936372c26ef694409c7e85b8\n",
      "d67ff12c6892d682f4e252f2b500d67306e1aa4b3830d61c1f206b3c28b54581\n",
      "dc3bb9d5f9139a21127b9f0b22eeb49db58b7ecc74130bee3e4a9fc1878c5470\n",
      "d7b8afa16e2232e65d86bdf2d7de546927d209b3e44ec6ea711325ec6658703b\n",
      "8b1212ce03f6240e31bb7d7a7cec1ac7ce53bfc85e777de58893536facab5027\n",
      "07562e4bd7aea481f55a77f6ff5bbc4ef331eb0c43561544825a535cb7fb6133\n",
      "bcc29c5f4ead557713188019de4032fe6baaf881a9ef75370450dbaceee602d2\n",
      "6cb05c1003aeeaa8fb575dacaac33f6106d431c5a02ebc65873d5e489514e7c0\n",
      "e300a36fdd1e4e6e620d7c13ed9f228224f2620b4e3d38eca746ba5f19e7e5f7\n",
      "a4c8160b1ff2de2290c8d49c370cb0083a4be0004f0eb4746deaa020fa41a5ed\n",
      "5c2d6e911c818aec9046501d2132e8a3595ae87662e21393d87b42465e8e010b\n",
      "659e432fa85ec6690720a09ab1c21334e733e98f9c22db31d4b3008c0a1cd2b6\n",
      "74e9d9f7d350272061d2a2c9adb4a6ab6d852b0c9034088736fd2ed6189e7659\n",
      "5951d06238be313319402407779f5fa7b11348ddafe85cba1802e11cc105a886\n",
      "9f58894c1bb4b4d437287097da05ecc3d964edbda9550c0f40477db18a2ca31c\n",
      "e5749546e081c346235adec1ec14c5bb5d098b7f9125eda1f6e88c14abee666c\n",
      "53642017d0ddbb0ccefc9bc0c9e9a2a63496aabc7a358de8c2af345ff9016efe\n",
      "440fec853d8a8cf846936ce82b968ae7cd0362a7227321f827b4bca21d60f1bd\n",
      "5dda679a8c449024f5435c654984ff4014946c239d330e34d7888043ebcf1faa\n",
      "33ddb697d7b001e73e7a2d458dad5d36447daa184678d0d403e81ca74230c786\n",
      "ef0145646aaa335bf1e23d876fcc7b647ad0324bf21f1f459ca4a6d2ccd39526\n",
      "3fbe5c15594ae616c771f88f2f32be150690c292c2caabf5b32ade75b68ba4c9\n",
      "7fbf15ab0e01bdba2d13d9936d8d6aa2baac510c0fdc87e1ad018ab081b41251\n",
      "6d82f220615524ae86d93b670385ea799aa2741392e9401b8ad10fa072d5abd7\n",
      "948e086c72300fecbddad32af4b61060f6a3c693ac146639220790931ae16dc3\n",
      "91fcdc158cb59d3b6d010ddaf25021c9ee9241f763261b4800e8246c82927ddf\n",
      "7ddd9c3e6f2a024ef5ae667a1e87eceba9aa5b5d8584d782f287c0cd1ab955fc\n",
      "46ade1012e850e3fcf943213471e799fb9f976182b5614c0ef26ee8ed9173d04\n",
      "1baf6098a98dcb336c3e52fdeea074e24f88e175c41bc283133d9c68a9a61ee1\n",
      "8c0fa08f0ef6460e2ce47e8ff331b11a127a29994b74a312b4eb8913947e4a17\n",
      "62d4172f46521930dd98869fee80899725d54a20dcec592be2bdcba4e8389afb\n",
      "2c946100c879a179b878c04e4578269001e2f3088229b624e5e8736fdf0dfca6\n",
      "00d2525cbbb6188f21bba3abe995c5ac403f23f3648550df1990adc31d1c2244\n",
      "efe7f54f5dd4412ba97733296e1d1a3d4862a398e41ec9af222aa938bb495a00\n",
      "c53489414bda2e81913685d0c86aa566f820117f9de86e5479af099b6229791c\n",
      "75e91624907a1dc705afb2ee16a567fa1d44076a42eb94d56fa7a11657b85557\n",
      "34d869ae8e4545b8962f97c5abf82eec349d0df4683a7d99ffbec8d1530f9319\n",
      "73f2b7fcbb9c58eeaedfee7c88148efaaa82e1bec6fdf97603e8145fc198b8ec\n",
      "2f813622c6c16fb586d48740dc4a5b1e49977c893afa73a362e1c406dfb7acc5\n",
      "f333f466dd52f5e1da15d0573ff3315d43a353e7b2d7f9de07a3cdd93d2476e0\n",
      "d3562c9b796b99253ba45042491da8d708a237a35c3f3915dd3d5fe23a1033ed\n",
      "6bc2d02c9aaa94499ffc0acb0b2c9799e3efe595fe38290d38f140c0dbc9d43f\n",
      "5a6f6a51ae16fc33f0c7aa27aded4de449a274a77a57a027176af2a70cd90892\n",
      "9d96e0212e961017e6d5292fde0fa01a4f0b7affb92ced9e749d12233fad7ebb\n",
      "5de95bde30f69d9ace78f8be64006d79b1b847f6af6ba2d93ce793dac4e5af5d\n",
      "f8c8a219efd357c56304c662130e75e03b9f4d410ce5d1f67618d43679a42f65\n",
      "8030ec68c8de9f4a00f26f39f58d6eea05ca049a6fd539121f4a48e5f7648738\n",
      "0908960bfeae9feceaec58a1f163567de751f4aa9fbe7fb9b9296d580d2a5ad4\n",
      "0d87d538080ff39a43ac36be00a442605a9c98d2790dd25ea53347819c46eff8\n",
      "342263083302a14904bacf3dfe2580e58e6c1e2d7b1c8b79d054ef6bf3b97fab\n",
      "0f4d66dadc8f7915ce99dcf59e44e68e54f7f05fb5b6c1322ffaa0a9f5f84c2c\n",
      "f6adeb838bf350346ce491f27ff98d80b70c0da547058d2102de591c6be36ef5\n",
      "6d3abf551d66072f71cee672e94f002d74805f1fbfac56d38b3ac74acaf7084e\n",
      "caac13259e013e9a63e370ca2fc1acf8da452631b337a8d0f07137b04f5df786\n",
      "3b9c1d04b275beaf2fc8e3a0d40da024d1ea81635f0d70e2dcff79487d2e4888\n",
      "abadb2ba860514db34678a3b78dd8aa2e1ff50eb7c26caa8b97885de3ccc98da\n",
      "1c07dc9eb3b221c9a061a6cdaa43b1e86fff6683c262442a60966948c364fb50\n",
      "05be47f13a0d1a44f13f3a6e379496ae53af6ee9db0257a169f3d5a936a5a83b\n",
      "dc8ab451dcf098c7af626644341e98dae8bb89cf4c2cba655e0fe720621bbbe8\n",
      "d4708996dba171568e493abb7b3647caae51a9804bc15db81e407f47c03a76cb\n",
      "b83f8bc27f8f99e0f7c5a0df66ec79097b925ebd40428aa7d567958028bcf393\n",
      "44e8de866dc4c4fde16f9e8f7a9d0429a3895e3fd8c4f00f624f859b6e2aa7e4\n",
      "09d16b18535e44b5e254e2b38a2362dd06fa7bb57626dc8de27a4980a57e8402\n",
      "6d079832ede22b0735e74f13a00a93c4c68a39d3ee594d1964e915076d01a360\n",
      "b1046804be3b95e3227b7380d708ed20731355e9cec63644010a3789a69d79df\n",
      "cf3ffada88919a2f79070bb0d592688f0e935f11fe6462f76aa16c326f46280e\n",
      "2a5343896f9da40b378de0cef747ce85864ab84a21bc1f7675d03827dc731ebc\n",
      "a2c150eb2695732c005cdd1e60775455b1f6d95eb3a39d5b19d82f3a70c0081b\n",
      "f87f72da1f9351447c95130cdd1b68c61bae18568bef7e82e1d5308fccc4b26a\n",
      "244e744081ce89d3c56a27d01ca266ba0c91fe02a239ff3aa1b3e13afda5a867\n",
      "44b14b7a95000881ab8456074cdde487f9361739d11d06820f69142fc269aca7\n",
      "b0856ec0fb1aebac58967fb94075a4044f0e4f06ebfd3c0831b7ef06d4a453cf\n",
      "7186f6d771d7569fca02fe79649bc436b9b47754215ac54a06e34bf8f3d899b5\n",
      "559b13cc569fd8a48515eaa3828f90d43f51c740ccf3b9318a49d827d34040b0\n",
      "1fd90751939eddc1898f71318f7ee2c45eb676395732640ef80244d9e8d884df\n",
      "e05583242fe7760640d7db3dbc9a26702b66fe5e77fbb3f894b8db042bd2c335\n",
      "af22cb64df8f49fc48ff9cfc42f1e27527e3e6da36e7bc25950f8e6ebc1c33f1\n",
      "86a06ebb480ffca6beaf3960665ed152189541a59888871ab54e3ffcba50cf12\n",
      "3c132fe929345525cfa7610a5bcc11cae44a9e63c54c389185585c167ed930c0\n",
      "d363ffd33e4544587a56f80f545e193e4ac9d1e5aacce4a35025c530853b22d4\n",
      "af7d588ac92d00e46f22d0837d7988689d8e405bbe9a4e0bf6d6e4276468f6c6\n",
      "605dcd4ebe06804bcffc4e1f087a973407b3ba027572159f164bb65626ff7e9f\n",
      "3a9ec379d088aeedc2c6dcc43a125051b09dc141d389a6acb9017547997c5161\n",
      "ad972e163d7865200d10535afc94639e1386ba373f52007b5c88f269f5d0a955\n",
      "350f1331d15a7af1b236bb7f421594055f90fc01272ffef07434a15327d19bc7\n",
      "d168ceba0a430f3839a3b6aaa20e7e6d4e5e521a459deab35d9bbe44022d6dfc\n",
      "326093d50494c9f1bcff3b1cefbdb0491e4530c1979fcf55c7da78c4be695376\n",
      "6d931993f6e902ea2d6d59ebb5f32b9614d33799d73c22fe081e6d1e78ebc8a2\n",
      "c543c3aa600dcdddc6a6c17deed0ea2485b6f50d3f176a95927aaddd7fea582d\n",
      "d820591292c0e83a13aefa72c4b76e59eb687c403c20ab28a51b2a7d1a773768\n",
      "22d778d83a9fac24e02de957392310ed04cffdc988c6b5bda8ae64bc4eb386d9\n",
      "e51ce23d8dd78455cf29425bc674675316c435a40f4a5685ed5413a698363bd4\n",
      "a2435cd5bc17d46bb72b7016a2287d7cac88763a073f1141da801dc1053ac5d5\n",
      "516624dafc4e7034166aa37e7aab33d30cb88c97ce5f481c447b01734f2e8a63\n",
      "a780dfd89c677ddf18a0e6c55818433ee5d11b565708f015bbe4773060c8a483\n",
      "faedb54222cfd113ff0c75424d6b12bc4d7d79a88d08d261b05d2a1e1f3740cb\n",
      "838f2ef9238f9abf8b777cec8922f4d1a8139155845fe743fa1e5ef195ace826\n",
      "fe8b17418c399a7d228bd914385e8ae1bec00fe46be2c9558becfebd81eaca33\n",
      "321cc981c19827579bc81fa1b2b024c2223c543adb507c2b806acdae7582a331\n",
      "e85cd3125db2f6831825205eba4afe9c0c015a29eb854c2447dd3af9e5cd8610\n",
      "1a61220a581470315bf0eef3895e44ba4118116c61c44957706e07f892383696\n",
      "22c041e478a139ea760356b83c55ba9b4abf5bc75ecc2d836f1b702d7c516473\n",
      "e7dfd75a9a1f39f40a8f1257966c62d4a08a5daf6e7c0097579566140f255bbc\n",
      "085f603782a34a9f53b37a40648f1d7cb3ab5710ba87bd5e45f7d1ca0461fdf1\n",
      "77b166743cc68514bb4842b1ccf40fd00e3e8f260cb8979d626f02a19ae4dbd2\n",
      "8522da187100f533c5545010e34235438e1833eb9ffc5034694b0dc8a29bf7d8\n",
      "7104c0a6e9b39b6f0d67efefc4be9b6a094d2aff274f64b799b0ceeeacbb528a\n",
      "f75750d591e372f559db9723c667e93003bf2452728d6b571c3b06f629e9c678\n",
      "7da7e57005feec5c7f4a9b66d086535d6a49a8a3f09cbca331a4df7c0ec5beed\n",
      "b22bfc480ff6d1881ebf452df0b26ca4b4ed857b239eebadf51debb42bf40704\n",
      "1f0897fcfe76c17688741b8a5f59a6f78c252c9c5fbf31e80f6b82595b6cef6a\n",
      "a6a35f29617ed5181d5df19502a6c8d495cf894c34667738790a688bf8868e3f\n",
      "9ddfe32a3f48f44b2f512078af2e23c2605c68791db1f8675170611391b9e6f7\n",
      "3131e07f4da0bb122dfbf486ec3fc9de120d34c75ab3f2d24ed534a30abcac61\n",
      "56da1809956dace0824b1ccdab730c5605125473bcbaf642df9cc391c5652599\n",
      "073baf2182ca306ae04b8d85e365c3fad93088fed5b18a6d918a345aa1730f22\n",
      "05173f288637e955c0d42a98edbd3700d5fcaf9780e7df7dfcfce870626a3f98\n",
      "5f7f4c9c35ae4809e7a74facdaf668a74aa4be6f25b75ac355e63854897f5dff\n",
      "a889ae798bdd35f67730a19e0d285c0ee43a5944c893a94a0004ac3ec6dfb628\n",
      "7ee456fcda9dca00f05153a2eda0ecdb40133c8bec589c4f9470221298901501\n",
      "ef055f774366e5b96ff02d5d40832b08a812ed81576f55ef869a17802b21447e\n",
      "86039a1f9349185f358312c45dbdfba4e5a75e2b4313ed2aafa9f8928b21fba6\n",
      "29e83e916499afc1b8935dbe31587116c5528eccd721799912215bac1cadc015\n",
      "3143ea15bed9ad0d5743cb3e86d258afe3b71b154508130ad4b4ef16ab84b1f5\n",
      "4ce33baf741c1e826ad1b07f0fe8acd750a732d68d8889128967fcfe9f77ef81\n",
      "28577f1658c06e9310566dd6f0669a422e8117546524fe463ded223bfbd511ec\n",
      "b7484ad9903a481e849e3b6b10e0ecbc62f316bbaa0716161ec569a1c77b5ce7\n",
      "ead9bc5bdd649f650ab783a8e81608610bc360fbfbd5f3371bfcf72d11a5a7a5\n",
      "cb12bccfd27b3cb924b91a744bef3c2f9e90945f27b28c3ad639a89d043fa9f9\n",
      "472786641103a4b4c7680c65196b62c10737a27d1e9b1ec1ae3733b1e0bb09e8\n",
      "72df8a3a651ed0cbd78abd54553d17ebebb252c9f27ee5c6357655fd801ce5e8\n",
      "e591bfa12aacebb829ab011dd107b034999df84937d282a9a674f10549bd1c02\n",
      "6f48a1fee2f2f201684584499ee55f06e2df119fbfa2e4ab8bf6affe36bde079\n",
      "36e7af6d0e4c051478ecef992f7968856558d7c7bf6e0476d2af1551bb8e9c53\n",
      "af415a4e32d622b6ff3fad8d5f721d535870b71fbb8f8e870b63e57b36c554c4\n",
      "064489cbc5e636315e5e9c9be5c1212aeba333b808b7c7a4884588c6fc6feb2b\n",
      "c91633903bd1306e574d6b7eb1c6afe784554de9105e02c15b971665474f661f\n",
      "fc4417188bf58d60b901aac32907c47cd42e13fbf708cc237d21fea62c8dda58\n",
      "266a0583e34657960d1f93fddbd1d4b9e8802839102777703fc07a9950205374\n",
      "b1e310a8845597b8d8906d6654ef804560db36282b70cd7637c027ded55500b8\n",
      "4af162b0c27d25f9f812a5fb8555f09c9be31f229db9383b71d0fd82ae9a4a39\n",
      "5aa7d7c05452e4439e7e8d350160ebb6c700e8cdda53a646521db9a6a02ab828\n",
      "b46e92d77c021cc3b41e4e81487c3fb429cc605f58942e0dee25da75933ca0e6\n",
      "9c611de559c92b63dcd5a7f190b041af89c42a0756f765ba1b64ae969e7da240\n",
      "35c4fb99b7528f8001510ebde16b0fb65f329a892defa68e6d58bf1169866796\n",
      "444182d3ecd23fd9caed3c3c6885680a207242fd893e8b70c4173d5398f9e403\n",
      "1f0a04e7f8d620a3f50edff22764393bfa8e09d71592d1be8cb38afb57d2b973\n",
      "74b14f70d0cf476a21c321c18a64d6a5e0f1fd1e87176c999f27b035d8e132ec\n",
      "6e456a2d697766613717945efc835c6d9c2f353846a4403c6bfab7cb33fe5193\n",
      "d6255f2fc89f0551776d6256025e05c958d5fbf411d2f980c8fc1918fa35db0f\n",
      "ed2e158e096b3f4630dee3c96b0a2683f7e53b819a2b88e8f0062970f4ecfcd0\n",
      "20dc15ea0b25369a14f9fb89e13fa5143619398c8931f4aea6fb4275e80df5f3\n",
      "c5f609e8513e1d15d87ca9f1eb62844e2052c9472cad4f03a73dfe281ef23028\n",
      "82813ec389a75be02d7e877043f6aa2a7733be112d0de1627d00b6a762ac7c95\n",
      "1778ba636fb692b57825717f3f466ad537d66ca7360df962809e6206bfddfbdf\n",
      "3b70035e62069f8708fa8c41d54f3abd4f6c539d39b6bcb217acdaeedf4ca24c\n",
      "748252252fc9341f92f7d9e4bfea734aec17f3acce9d0357c4c89329fa64e346\n",
      "f7c8b506bbce099eb2324372d457eaa5d2d5c8cf194730a08ec1a232ac190453\n",
      "c9ef581688a3831fdb13a89d702f2be5215453512d0860f0fc62c00aa2c79ac7\n",
      "cd1c5575dd572395c0d454110114884dffc3b83b70c3700eaa70db1287bf2f4d\n",
      "f308efd2143fcf465506e300fd61480faf0da42f63c5d560e6654c48ce937ac5\n",
      "d00eaf94cce21a3290d2fb00cca9578b2b50e5e11db4caf573a83f644a62de72\n",
      "e4854a7ec01f6fdf83374d2ca6ae1aa7cf2c2e024dd6bedc4254375f8e604afa\n",
      "9376c1ba0ccc78b05d4a9b9859fc951c3da0cd2c6350b9a023639c510217dba9\n",
      "6492c6eb61ab054757e8ee8d56240a25cb555e538eeccf76a281fc9611b8a35a\n",
      "d6dc10494d2f446cf6182c5b173c15a6dee4bb6b711b06658548f7d7699ad768\n",
      "c36977e9b8831f07dbcb01f9c7a17fbacc86db12c83830cd0b953d61a43cc6c9\n",
      "821378df64bf7b06c6bce91edebc692aa1c4b657dd0f193fc02e309c7e298075\n",
      "9d119ba0109126bca2b5d789cfe117acd1913184737d6bc7eef4ca01eee9d8ba\n",
      "7d2aa1b120bdb7a54787c62ad20f505b143b4cdfd46d6e3305a804f300fb0c58\n",
      "8057048eea714834823f4c1a87dd43c5c24bf9ec7a01bce12a5d5a860d925972\n",
      "a68182393d991864de680ca651949f9a397d3e3bb12ebd7f3393c5ebc31bb26b\n",
      "455da7594edf7918970f3a74732bde649e51c87dd2e2c9b5541da8647209b2c7\n",
      "a05185ee02b352fce53783534e8180d1f0cf444f7e369102b60dbe3a139a6949\n",
      "13917d94f9c5fc181b851a80f2b1b0a44dda7d9bcafc070f14f811daa13b922c\n",
      "2cec86f04980ababd9d0e346c0be72d215c20b0950832709145b27240c8eed3f\n",
      "20ce6d13cc617e0830db0a45a3280008fd19f9ce49d83f10e026d4dee910a5c7\n",
      "4a02d60018d4deb6b94518dbaef3cbad01bf833eaad89e14c84ee621e6a05a7c\n",
      "0e6634baef7bde2f565483826b4b945b397775f03b8e0c86d3583158985d9da6\n",
      "49a8188280b02e1e9b6b3ab1596c62c5dae914852e7f1bb49b7f0dde57cfe1ae\n",
      "0ddb686d9ed41161922b08842f3fd9ebdfcf2f8634907b0468676d0750de64b3\n",
      "f16ccf19a06e7ee21940630bee08857da7ec78419590f9970fa82ca44ca9475d\n",
      "6d9f89acbeb32b500cc4a28ff73a46e44035dd590f610935b46f5a4be3e03088\n",
      "8cf1ed64a019b11d6dd9bbb33ec8029cfd4e370b6d1099d54c85116885d78be2\n",
      "fbc46c07e738c56353fbc667ad5c33354442227159ffdeacb612926e2a98a3d8\n",
      "ec1784d47ca1a6d8a73a40efbbbca53452677a45a2ebaf0edf4aac61290a90a8\n",
      "4b83da28e8c46a7a571207c7f5e705b158caac74499093eb234c8ff0bd61b017\n",
      "3288ee9fcbda12d09e5c0767003fa401ab562f5699d037608536dca0ea91c1b1\n",
      "f50ba09e437f50fcda7e91d64a00b7df9354c1557f496fbd7646badd4c64e536\n",
      "f60ab56318589db8bc3da56e271e708a6c487a7a6f0560b8638af7a8575eb7b3\n",
      "cc3c1c59f919fe83e010762ede9f48cf86a4c6455cc41112cb8414130e86f227\n",
      "e0dff05eebe253c9b794cbef293b8248c62a7a4b7f98a226d9b7b766f208fd1b\n",
      "1bb1c62efe31c183c61011e1d7fcfaeca2d1d341b812c58aee75fa7b6f254ba6\n",
      "37fce38659666cfbcad843101338623d98ca13aae216df8cdfa8dfcabc1bfe80\n",
      "cc76ced1f634539fda194de17bd8567c8f4b947387f0d1a74f66f7d070e8adb0\n",
      "5e59e221e89606e4948bfc1e10048588b13957cd949058fe733c9e508094e7f6\n",
      "1b405afc1bb6a39f59a385a680d1416e1638e9e3fade591c9d1b3d24e7ef2934\n",
      "626083f48350efff4689277bccc9e8ec3ed52838602818dce051dd899825480f\n",
      "b00a71eae37f106107ba8dce62ef808e7338eb65855990152fe053d8a33514e1\n",
      "980599ba736df52a8a94fc5e08ea30d5b98bdc1f9b9d9d89884ec1a8b00d14cc\n",
      "78bb300ed62e56816a8f28bc0fc54cd7d21dfd24426ac70031d64aa2295f1218\n",
      "9142d13812d51c576e32e6f1ad87166943aa34fa0ca0492311e343a8297d6dd0\n",
      "5d6abd28d5e48ae545cd29f5ebc0f79506f783e1338ef01305b6e5f8af744308\n",
      "dbdffe464d3bc02f5286a8df2885a2dbcb6dfd0a6f30d3b09a9e275af42a9aaa\n",
      "997be54f7c7d0ba89624382842e6d539a19d41d64ebf05e2a12a876cf85a4c83\n",
      "a77ad7b9d77614b713bf5ae0bbc8fbafc40e6e9831e3548beabed65ec8323fd8\n",
      "e8f268df9c507ed38e2b8b26d045db4aeaf7ec99472d476f431c83e4096347d3\n",
      "9e0ed35db383e9ef11e069ced38a4d3f71f944608c15b4bf0a08c09894c50646\n",
      "3d9cfa82c1fe9e6ab4257cb7e87274d2d692d9cf029a72c4dc48a5e9de2f52fc\n",
      "f22a65e220e6d5f3face14cf1dc54d883852081e3b05e644cf11fc9119b849b4\n",
      "f2abab2cad262f2fbcb91fe9f398a047ff11f85e0f570559d7287c96dc239138\n",
      "1cb65469f174a889715839147637680025179cad0c258e237a78e293c5988dfb\n",
      "4c8620b17568446b4e1cea2c293e2fafa8b2ae913f39d8e4986971aee61d020d\n",
      "b886dba9be3755904fdf588e4d8067d89962a957c490f2a8a655e28555bb9d6e\n",
      "731bfa106d74ddc2d6a3df74c142e7a5db659e4b3ae39b2f0bcabc6524a487a1\n",
      "672f0424c2d2638982f8770366d802aa9e937d1518784db8a1cf2a7b10234fc6\n",
      "979083ffbdeae4e73d35ea8213947648faf54b613425edca4a5e34bbde164029\n",
      "e93311d640d5f2ad9280d3c96e34ad7ccd5d8b5a1236f75eda9f7fa22f891218\n",
      "9855da9dcd444316ff8ceb3b7176f8e409000b4eb8faa91ad43507b0d7a80aad\n",
      "0ba89e3c661bfb9c9891f97d59ecbc26490c71233443b3326191ace0cf1392f2\n",
      "bc962b408a71ae3479c148e0f3df599a3d8b41d6c2b6a8ed825fe696b9344987\n",
      "ed4c7c7314f43ae7e9f11089ba4c5b70e9af9e21915779cc38f718bf5b91a4ee\n",
      "a8bd9c0f4f6eb6c530465d2f2d34fac71de4d0108fb28b631ac24158eded0069\n",
      "a678a4ae72a38f56abb52e3942e66509ba90d9fb420760018b4e235c49a191d7\n",
      "67bce23240821bbfcca845982caba6051052a9d097dfe1ecc2f3db0770923485\n",
      "6026c49fe260b2c63abfcd2bcc1fa3f986ca90493d51bc6eeb6ffb4a5efa6d23\n",
      "87138494e102c410b3fd36a928b9abcc626001a2581a44b4bd2a5ea98fc0090f\n",
      "6b10f77aeea5cf0f9c13f8ecc929d5fc206d4b095a9b1c8a1c9cf99df1c89d96\n",
      "3a54a6c5dbda05a6cf8a501edb1f04e8d75f95a262aabb82cb69c5ac51af1d4f\n",
      "dbe8ef9dfe372f99c7d3d002025dbfdd414ee02c1369d9a35b3cd49a0025e25d\n",
      "60d33a1d1a6360c4d4883ad0bd471655a9ee25a18d22420b27e0c8c2101dbca2\n",
      "7994f4123284d30a0bc32553944395fa16b19d4f22fb8d00ebf8dbc655d750f9\n",
      "636f94b1543c179a6a28e1f0d11b4cfa55402ae7e9a3e71459fc1425679b0677\n",
      "afce25e0ce33cc0b1397928b0a3342440a902aed4b016f8255e428166b6e4a80\n",
      "8d3e1ff77630e0f0ef6c526b61c5bab6bbcba8db0b51f4964364b330f533ea65\n",
      "f4c32c5bd7f3aea4bc7f7bf796689fb5a9e26451b970e4736a235df4286cc010\n",
      "6a77c6e31597cd6254769ec3193dd00a67330d3f44b783a6e9c14f7c777f2b6d\n",
      "071c71cabdc5c5d56160aaab62b42f3bdcd92e04475613638ea5ba4dfcf249b4\n",
      "fe48408802cb9f6f4f02f0511d714fd9dbfd95d5fd39e339c23137f7eb0d8556\n",
      "6ebe329e6fcda6d7cb1a1de29fc83fde6c0848155efcf0a1f3038bfbd91f36e8\n",
      "2f7c5b61a192e49be72884ea43858310c3e1cfb1b3b5f794dfcc5c2bc053d59b\n",
      "587e4019f1374110e9ed16273202b823197a16d4893bf93b0aceab96e9201475\n",
      "11bc6e3961bbf61a2eabe679297846a6dc8f04d6c4b2fa713b9cd1710bebaa2f\n",
      "973a9e74c9aa4c40a2e900865ebd94fb76d059f233998e30f274fa55ac49cb12\n",
      "75691d0b6777d54de12c52187d736c8745e9f98bc071f5d34a2256846889aa95\n",
      "4160a37d487f3ece7a58b7068e12d36cc3b1ec928ff933757499b9a480b18def\n",
      "bb497635eef22b0c5272d22b53a9f88f963b2aa1b090e8ceaeaea43d1283335b\n",
      "864c0ee8514cbdb14c25710ab0537f562a88e0dbb5d38b9072f4148fb78b1d72\n",
      "9c63416b0fa4cc7f8aba947007e5f8d0ef41a5a4feded1279bbd19348d21929e\n",
      "71b870d67b2d9fbead4f71de5b1d2e99304c5e7ef141ba2fb4d580d14f8e308b\n",
      "b37f105ec65b4f928c12da0512e4c03734e0a8d5fdb387f0cb08437202cf7817\n",
      "9086f97c052c6f104158b39f27649912d747ae242e8cc50cb037ebaf38af0cde\n",
      "e006ce5ae54e3fcfebc4d07aaf70e801a08ada87ed62e9d7a94e8ec5024e3a40\n",
      "7c6747261967fe1009cfa8caa8e5ee4cf9122155426fabe8ff92cbecbd433718\n",
      "5b6a5e1760bb3e2454a069f7955c66c1b154937ad6c5c1bde7c77818ccaedfba\n",
      "969e4fc55fce96b27aafff2873aad2bc0d861177c77a7559fd4efa264da1a9df\n",
      "c4ca9a5d6bf3265a0aa6e888b07d32ea26969ccae359dffd1f20efb2cbbce1c4\n",
      "dc1068906d53402b6f118f1caff26f0a6834cda32cccdc133e866b069c559dd9\n",
      "b49a010bfff2d8a8aefd408eef8b4154cf5ea9ce1fd82829bf11a01ec8529188\n",
      "f8f94e2cd945e04998853e1022b926e300917489a975cffd4ffdc5ae323ce10c\n",
      "ffad7a9e03ff1a85a7c0268350a197e6b908b7c192d6af9a68257a1fefc31eea\n",
      "2e38e26866d8c39d9a5b0fa343c965e3473b4523e071d330ba9677064c7ccba0\n",
      "1df25870298596e35b86ddd2897d90a01488cfd2ab8382d3b68e8e61fda7a433\n",
      "7d463613e5b1fbd51e490f936f5755ab4fb13caafbcef7d25d3c16994b4a3437\n",
      "39b8efd3832c1c49ad2fcbedef9671485b59d68426fed971eefd6a84dd973e12\n",
      "102f8432ff843fc5deec104f9fa77c3a9339f9cb3db559c8f61078125bcacfd6\n",
      "48b062cb05071fa85a790adf2c79b41c76a9514e6bbefce7d512e02deeac6e87\n",
      "31f9cbde35e5546e1cf70d9417139b530f76766c93047a7386b359ffab01f02a\n",
      "9d4681f2f4a2bb8f99abed7569cad7662f7ac6208bf4d6dde8f84e462bffff43\n",
      "0898d316014ec1d3c2105f6948117cc657b87bd561ad0f3c6b690f047dda748f\n",
      "2e1b532ad5d125df9468773bc385eceed4fe26cb09d7cf4e0741a970cda6934a\n",
      "51413efec028460c6d039be76bf0661635600c6089fd134361bbef5a77e90166\n",
      "4df4cc18455774a3f7cb88523917ff9db0fa603367e12984ebb50898ec2218e2\n",
      "2c2646cb674f480e8aae0f18a20666bc8ac9fb8ae672fcb8c258f6e194941ae2\n",
      "f9318de8c36bc7e6ee2eb065b9f584f8f281c258807491c86e31e7389a5c923b\n",
      "7581ff5731f6457f09ec1f4f962927e25a3d82a8fd1ab11881d2f0377250536b\n",
      "462deeee70f511a60f49f0bb34855d027d1148dd8f755775f8685e385020e7f2\n",
      "fe88a416b6de7b43bdcad2dba7c27c3894602f3f4d2c93aa55ad4103d775a9c6\n",
      "ac9e6fa5d24b02c3703b8f325e7c6d853073ba7a5775e692d0fa7865f67687ed\n",
      "c9a846ee5505bae9f61420ca483036d537ac0e66c9113ba42e53e61cfaf511d4\n",
      "eb0bfea5560ed4d5589920ef7365ebbbaa34419196233481537415e0267d90cc\n",
      "620f54f3e34484b286da388c593eb3809b0b0866edffe4f65f8576da3b64078a\n",
      "f991883cd76750edfcbefc41b7a453729f9f4f4a2026c7c0113ce39396f724f9\n",
      "1e763442fe3c14cde3cccdefd8327caecff6740518db5df25faea5aea9d2b1d9\n",
      "20948c633ab59f5fb7ec651128b20e4f828196223d5f5ff526efb9f699ae4926\n",
      "8212252211b4d362ec27acbf98f786f783988ed19a089df41b932e19090c1545\n",
      "7bdfdba487a2270f7da47358e590229f69ccf98105d9d83b76663d0c2ad0ca40\n",
      "c751c21e2dd48cda58df54e23bfd98fcd298c21a56334a87d57f7f51556a531f\n",
      "b3a27f9b390746ec9620a7c78e1acc6aaa0ff0ff4f447948e4e60e4f0eddfea7\n",
      "f7b5f5db586e6c525849fddc7e98822099028ad78653ae5cf5d9173c3a6cbf82\n",
      "a8ad83f3a8e3ea2f4884f689de72139eb4eabb790ae5a5927dfa32cee13ffe40\n",
      "9ab8cd4780b079c01716766fbec4699259fd11c272842a7126cf2329140ac99b\n",
      "0ff828422c07081d7bf04b2b7533e5dc139eb6847eb86f83737381a4e5cbc1d4\n",
      "bf6a92a6ac284ff7072ee3a1f90d84c5bf5c7cf74ea33d2310327d33b0f8f5ef\n",
      "cb548edbcc1d3f4fb2b58bdbf4e31a4677ec10d8cdd6187c44abb81047aa583b\n",
      "4838df54a322422b7b407124c96ed09aed34752b2f552396dae11704496087ee\n",
      "0edc16908c302286cef8b496b7cc3f3fbb42221d1e7d49329b89273e81fd3fc9\n",
      "1b205d881407a0cecc418ac532b16df380313157b7086f94fc8b7f8a1d0e2d09\n",
      "3fa9060951bd7dd29fda916981101e093ce54a38ca8322f076c7d47f5e9e0825\n",
      "455b43068a4eeefd3998487797775c807d74e9a21818930d9c36bd3f5f55e371\n",
      "b0790e20953a577808afb3386cf7f7b84a55a59109f47a049af7d3c67bea6851\n",
      "99f9b93cc4f1d940202dec79f7332b2a94d33c7fe9f4deb7752de61acbedd7be\n",
      "fbbbb444fc12d3b9eab2b6dc87af9321cc009cc625ec4027086b557e3e08df81\n",
      "2b74a9ea7267212ed187a7fdaaba53997dba48013411f856c658292e62e77d4c\n",
      "fbf4c77a99a566e8e099fa0bc881095405540d5b1c9e1b27767167fd6040f64e\n",
      "659f9e7213a4fd60527b2e983e25f554724495408bacbace2892e53ef9c1ae33\n",
      "9343bcc397fd243ebd8dce660e783714ce7df383f6526220ef06c9d37e531f21\n",
      "bda176ebc558c4f82d24f547405808aa509de948feca6042578f9f9964f38c5f\n",
      "4093caf71e819286e41432f672ebd131071e68df97dc4cdfade45e65b2b41d29\n",
      "2b1fc3959056dfcd8e2e33ff0866b35b8edb6aa3c1befcf79c526510004d23e1\n",
      "ddc679547c507db2e39db357247031eb4fc23d9fab0bae38041370f5e1f71401\n",
      "45f5128da931075dba4f1577fd6204e5f1b6d41ab6645109205ad572ea148757\n",
      "9ab4a7e867307e07880a9824ed17d31e3419fe9e1279dcb5c7ffa0c4e1ef6274\n",
      "4491bacc6f47a8e50783ee2441eecdea691c8ea03d8f432705c704ab3c2f26c4\n",
      "f2a1dfb55dbbd69e0e79e59cccf107ae7799a007a65756ebb2922a76a8ab92fb\n",
      "3a9483d16ebbc6dac62bd86f4f008ea0d892a652a24193a04147519c7e275011\n",
      "602bbd4cc90e2b334cdb218a743123c95abcad2ad23bedfdfcd22ef4a7aa017e\n",
      "33618a21193d22041f8fb0ab0930b4ee1f9c9c0988ba60baf865ffd96d61dbc8\n",
      "2218e4a5a8ed040e2a1546b1f9f18d4d2589d6a98600a79c1131d292e726fa04\n",
      "8044bda14e40b00ff64e77a30ba72aec27bce8a199d4eef44a14931559e046ac\n",
      "e3f487a8dfb89e8482ce68a55ef8f0679f086fc72982fff3a1f966e1f6f0e3cf\n",
      "a513f44869c6ad624fce5e8043e7d22d340b11927cdaa5a44c3c4902e3943f79\n",
      "cf97987c5d266f3ecdf5b91e420c8cd0d90178e1d8bc5ef0df18fa5e8d4d294f\n",
      "27cda1a642ac35b4b9f42c2e2eef73eba58c1ef39c86afbfd9b06cb5043b2959\n",
      "1324b1a3cbad2f27e2c02ac4020d6feeb6278920e4ec4564b4b4dc6b409ec9a5\n",
      "a61b5affd17ac78f954be406757b09c03ce40c66e8d01145292a3997b267aa48\n",
      "b14dfbfd2ba7202d4b76f5d5ddd6856067499f8e2c24a9b1bed0626f9a54550f\n",
      "e89ad977bae16529c451367d6a5414bddfab84ccacff58b357bc0189437e720c\n",
      "1494893af3a3443e95b016d9023e0f2dfcf7242243e3b72a34976e6222114b45\n",
      "6c2465d70e1de6bfb4a0bd179dc688a61934b8e0803f8e6324685dc768f90efc\n",
      "43b2c241af215c497fdee22c2b57cabde67ce5aa21c2bac7d092bad96185be14\n",
      "4a734494019e3b7aef2ff22da379ea2ea7a826241e8cf748830b14b607e64221\n",
      "a816f4829af5d9507e88fa5d628af9a0a451255789757de7650f71b0d8a45b17\n",
      "7e511cfee8a267b275fe8f51bfb1eac19c0d9a2e183c7d7fe23277a40e99277e\n",
      "b46b6da41fd86f6b21ca48a12227416456fe10e44ec64f028b189d6233de010f\n",
      "698673b5856851a606c6970680422f2ea0c2bed3fc35baaad84392cd0c87c225\n",
      "7c8685221eaef21fc0851bb7dee78d6571aded43a3a079fdb8edf2107f1d8580\n",
      "e5e1b58ecf1da76c7422eb6b0aaf8e8d571bbee60a6eb4278f6765224086de1d\n",
      "6ba43e1a58e618d42939c54c6170e17133a3ea99374651a04896b77531bcfbb7\n",
      "b2a7e03e61623d756a49f5119db5a8714cbfd63609feb2be5f211f8c6af7884e\n",
      "85bd31688f72498b000926c31622295f49d307c9f3e529e1af131d55b2bc8ba5\n",
      "8513d8c673678c61d25e833ba1b222e0db86d3cba3ed0000176f792ed0f1f7c4\n",
      "26b9ba6d523d4e8a982772147d32655bdcde309addf727a85f0eb99f28efc908\n",
      "f780aa8469875662d3e12de19c286e2171d3e48020b25964f6a270f552bceb7c\n",
      "586a3154a288f912c3fc8d5f289bb04d638d7f3af946d864510dd45f2b96d371\n",
      "12d7788a19d64ebb4cef4e015b0efee1abf2de9ac7ca6e52480833966b8a6b98\n",
      "29e59008e33d272baad1f5c7a7180056cfe48c8799b46fda8d8d4bd50bc51463\n",
      "d089fc90c6513edb89d2c7dd1525b6b542624c18c98dc6fcf176144776c65b31\n",
      "595a47a6209726f248932f27459aceed490fab504c27f02cd5e93d5150bf4b45\n",
      "47dd4cb3de41d8ced879cb17a653186e1bc11b74d8a29ad67164146fb3d20a0a\n",
      "5d9121dc272a4c89ef2710ff6e18a72430c17ccaafd9b62baa16f11b27d6440c\n",
      "cb72e1b5105f8c53e0ab10431b7414396e96a53f4dc2f66fc478e1a24ee2f349\n",
      "87fe722cc034b7c26e212241f904379f5fda739e2da38c38c3672b8e222b30f9\n",
      "c495b872892bf160d619147bae0e1a9ae2a6e4e6b0c2d4045590bab5d950cded\n",
      "d8a9f3353c8667371f4e0a785d958c6b96e46e2075da01243797b8f90ecf521a\n",
      "46e3331e12a75ce2408266b694171902b32d4ec60211e010a24c220b6dc6a5d2\n",
      "670f596b0b132969d267e313c1e0d6219f8075d851f96945e143ae85c834c4da\n",
      "b9a4afe1c15d32779f1115cbb18411293d9d5137e375062a488a5b86f98930bc\n",
      "66a89d30bb26badd173477be58569b8d8d10b40d61f1cb8659d28f24e5a80559\n",
      "12fe6e298ebb7789f71acc65c34c3a3ec6a07fb6c2138f00560474d6682c9c46\n",
      "0002a9dd37305cb122e87c4443b4344a85cdf778ae950be52dfc5678d928022b\n",
      "The nonce : 551\n",
      "Output hash which has 3 leading zeros: 0002a9dd37305cb122e87c4443b4344a85cdf778ae950be52dfc5678d928022b\n"
     ]
    }
   ],
   "source": [
    "for i in range(1000000):\n",
    "    nonce = str(i).encode('utf-8')\n",
    "    result = hashlib.sha256(blockData_bytes + nonce).hexdigest()\n",
    "    print(result)\n",
    "    if result[0:3] == '000':\n",
    "        print(\"The nonce : \" + str(i))\n",
    "        print(\"Output hash which has 3 leading zeros: \" + result)\n",
    "        break"
   ]
  },
  {
   "cell_type": "markdown",
   "metadata": {},
   "source": [
    "The hash and the nonce are both added to the block information, so that every node can now verify the block by running the hash function using the block data and the provided nonce as inputs."
   ]
  },
  {
   "cell_type": "markdown",
   "metadata": {},
   "source": [
    "At the time of writing, the bitcoin difficulty target is set to 19 leading zeros for the block hash, making it extremely hard to compute. You can play with the code above yourself, increasing the number of zeros required and see of the number of iterations increase accordingly."
   ]
  },
  {
   "cell_type": "markdown",
   "metadata": {},
   "source": [
    "This means that if someone wants to alter the history of the blockchain by replacing some blocks, these extremely computationally expensive puzzles need to be solved, and they need to be solved in a very short time. In fact, by the time a block is modified, the nonce found and the hash computed, other miners would have likely added more blocks to the blockchain. Since miners add blocks to the longest blockchain, the tampered block would consequently be ignored, and the tampering effort would become worthless anyway.\n",
    "\n",
    "The incentives are therefore pushing miners to behave honestly. Miners would try and assemble a new candidate block, work hard to find the answer (nonce) in the proof of work, and then add it to the longest chain as quickly as possible. This ensures that the miners secure their reward, aligning the actions of miners with the security of the network, while simultaneously implementing the monetary supply through the issuance of new tokens."
   ]
  }
 ],
 "metadata": {
  "kernelspec": {
   "display_name": "Python 3",
   "language": "python",
   "name": "python3"
  },
  "language_info": {
   "codemirror_mode": {
    "name": "ipython",
    "version": 3
   },
   "file_extension": ".py",
   "mimetype": "text/x-python",
   "name": "python",
   "nbconvert_exporter": "python",
   "pygments_lexer": "ipython3",
   "version": "3.8.3"
  }
 },
 "nbformat": 4,
 "nbformat_minor": 4
}
